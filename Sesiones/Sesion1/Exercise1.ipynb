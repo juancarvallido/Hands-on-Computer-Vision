{
  "cells": [
    {
      "cell_type": "markdown",
      "metadata": {
        "id": "biK2H-MfIiar"
      },
      "source": [
        "# Sesion 1: Pilot\n",
        "\n",
        "<img src=\"https://raw.githubusercontent.com/semilleroCV/Hands-on-Computer-Vision/main/Sesiones/Sesion1/images/poster.png\" alt=\"drawing\" width=\"300\"/>\n",
        "\n",
        "**IMPORTANTE**\n",
        "si realizas cambios en este notebook en colab es necesario que hagas commit antes de cerrar la pestaña, si no se perderan los cambios, porfavor, manten abierta la pestaña\n",
        "\n",
        "\n"
      ]
    },
    {
      "cell_type": "code",
      "execution_count": null,
      "metadata": {
        "id": "urKcJDhQIiav"
      },
      "outputs": [],
      "source": [
        "# @title imports\n",
        "import matplotlib.pyplot as plt\n",
        "import numpy as np\n",
        "import requests\n",
        "from PIL import Image\n",
        "from transformers import pipeline"
      ]
    },
    {
      "cell_type": "code",
      "execution_count": null,
      "metadata": {
        "cellView": "form",
        "id": "FG-Qc7_mIiaw"
      },
      "outputs": [],
      "source": [
        "# @title Rellena estos campos\n",
        "nombre = \"\" # @param {type:\"string\"}\n",
        "codigo = \"\" # @param {type:\"string\"}"
      ]
    },
    {
      "cell_type": "code",
      "execution_count": null,
      "metadata": {
        "id": "W7NQKmKMIuCo"
      },
      "outputs": [],
      "source": [
        "# @title cargar imagen\n",
        "url = \"https://raw.githubusercontent.com/semilleroCV/Hands-on-Computer-Vision/main/Sesiones/Sesion1/images/gato.jpg\"\n",
        "# puedes cambiar la url y poner una de internet!\n",
        "\n",
        "img = Image.open(requests.get(url, stream=True).raw)\n",
        "\n",
        "plt.imshow(img)"
      ]
    },
    {
      "cell_type": "code",
      "execution_count": null,
      "metadata": {
        "id": "-Vw0JOL1LkPK"
      },
      "outputs": [],
      "source": [
        "# @title clasificar imagen\n",
        "classifier = pipeline('image-classification')\n",
        "result = classifier(url)\n",
        "\n",
        "\n",
        "print(f\"\\n **La imagen es un: {result[0]['label']}** \")"
      ]
    },
    {
      "cell_type": "markdown",
      "metadata": {
        "id": "eeY0725tMhxm"
      },
      "source": [
        "## Guarda tus cambios en el repositorio\n",
        "\n",
        "todos tus cambios se guardan en tu repostorio que esta ligado a tu cuenta en github, asi podras llevar un registro a lo largo del tiempo de lo que has hecho\n",
        "\n",
        "**para realizarlo es necesario hacer lo siguientes pasos:**\n",
        "\n",
        "\n",
        "\n",
        "1. En la barra de herramientas selecciona file y dale en la opcion **Save a copy in github**\n",
        "\n",
        "\n",
        "![step1](https://raw.githubusercontent.com/semilleroCV/Hands-on-Computer-Vision/main/Sesiones/Sesion1/images/step1.png)\n",
        "\n",
        "\n",
        "2. Se te mostrara el siguiente menu, en el que debes checkear el repositorio y poner un mensaje de los cambios que hiciste, puedes poner algo como: *mi primer commit*\n",
        "\n",
        "![step1](https://raw.githubusercontent.com/semilleroCV/Hands-on-Computer-Vision/main/Sesiones/Sesion1/images/step2.png)\n",
        "\n",
        "3. Al darle en ok, se te guardaran los cambios\n",
        "\n",
        "**IMPORTANTE**\n",
        "\n",
        "es necesario que revises que los cambios se guardaron correctamente en tu github\n"
      ]
    }
  ],
  "metadata": {
    "colab": {
      "provenance": []
    },
    "kernelspec": {
      "display_name": "Python 3",
      "name": "python3"
    },
    "language_info": {
      "name": "python",
      "version": "3.10.12"
    }
  },
  "nbformat": 4,
  "nbformat_minor": 0
}